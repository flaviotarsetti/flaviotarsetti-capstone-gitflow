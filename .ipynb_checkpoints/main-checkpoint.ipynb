{
 "cells": [
  {
   "cell_type": "code",
   "execution_count": 3,
   "id": "a351d0fb",
   "metadata": {},
   "outputs": [],
   "source": [
    "import json\n",
    "import pandas as pd"
   ]
  },
  {
   "cell_type": "code",
   "execution_count": 5,
   "id": "fc3c60c3",
   "metadata": {},
   "outputs": [],
   "source": [
    "# Código extraído de https://stackoverflow.com/a/29312618\n",
    "tweets = []\n",
    "for line in open('farmers-protest-tweets-2021-03-5.json', 'r'):\n",
    "    tweets.append(json.loads(line))"
   ]
  },
  {
   "cell_type": "code",
   "execution_count": 10,
   "id": "dab72dcc",
   "metadata": {},
   "outputs": [],
   "source": [
    "from retweets import *\n",
    "from users import *\n",
    "from days import *\n",
    "from hashtags import *"
   ]
  },
  {
   "cell_type": "code",
   "execution_count": 11,
   "id": "ed7e622f",
   "metadata": {},
   "outputs": [],
   "source": [
    "def main(tweets, attribute):\n",
    "    if attribute == \"retweets\":\n",
    "        get_top_retweets(tweets)\n",
    "    elif attribute == \"users\":\n",
    "        get_top_users(tweets)\n",
    "    elif attribute == \"days\":\n",
    "        get_top_days(tweets)\n",
    "    elif attribute == \"hashtags\":\n",
    "        get_top_hashtags(tweets)\n",
    "    else:\n",
    "        print(\"Invalid attribute\")"
   ]
  },
  {
   "cell_type": "code",
   "execution_count": 12,
   "id": "8987703a",
   "metadata": {},
   "outputs": [
    {
     "name": "stdout",
     "output_type": "stream",
     "text": [
      " N°                               Tweet URL                                Number of retweets \n",
      " 1          https://twitter.com/rihanna/status/1356625889602199552               315547       \n",
      " 2       https://twitter.com/GretaThunberg/status/1356694884615340037            103957       \n",
      " 3       https://twitter.com/GretaThunberg/status/1357282507616645122            67694        \n",
      " 4        https://twitter.com/miakhalifa/status/1356848397899112448              35921        \n",
      " 5        https://twitter.com/miakhalifa/status/1356827705161879553              26972        \n",
      " 6         https://twitter.com/TeamJuJu/status/1357048037302960129               23251        \n",
      " 7        https://twitter.com/BobBlackman/status/1357755699162398720             20132        \n",
      " 8       https://twitter.com/vanessa_vash/status/1356681136655769605             18744        \n",
      " 9         https://twitter.com/kylekuzma/status/1357009721090138112              17368        \n",
      " 10       https://twitter.com/AmandaCerny/status/1359013362881994752             15677        \n"
     ]
    }
   ],
   "source": [
    "get_top_retweets(tweets)"
   ]
  },
  {
   "cell_type": "code",
   "execution_count": 13,
   "id": "51a9173c",
   "metadata": {},
   "outputs": [
    {
     "name": "stdout",
     "output_type": "stream",
     "text": [
      " N°            Username             Number of tweets  \n",
      " 1         harjot_tweeting                7134        \n",
      " 2          tasveersandhu                 2091        \n",
      " 3         shells_n_petals                1991        \n",
      " 4              jot__b                    1841        \n",
      " 5          rebelpacifist                 1806        \n",
      " 6             rumsomal                   1722        \n",
      " 7           Iamjazzie96                  1502        \n",
      " 8             Jass_k_G                   1460        \n",
      " 9         DigitalKisanBot                1453        \n",
      " 10         z_khalique007                 1446        \n"
     ]
    }
   ],
   "source": [
    "get_top_users(tweets)"
   ]
  },
  {
   "cell_type": "code",
   "execution_count": 14,
   "id": "c2b5ef55",
   "metadata": {},
   "outputs": [
    {
     "name": "stdout",
     "output_type": "stream",
     "text": [
      " N°              Day                Number of tweets  \n",
      " 1         03-February-2021              83866        \n",
      " 2         04-February-2021              58607        \n",
      " 3         05-February-2021              33332        \n",
      " 4         02-February-2021              28548        \n",
      " 5         06-February-2021              22420        \n",
      " 6         07-February-2021              11325        \n",
      " 7         09-February-2021               9320        \n",
      " 8         08-February-2021               8920        \n",
      " 9         10-February-2021               7973        \n",
      " 10        11-February-2021               5698        \n"
     ]
    }
   ],
   "source": [
    "get_top_days(tweets)"
   ]
  },
  {
   "cell_type": "code",
   "execution_count": 15,
   "id": "8e5c5d87",
   "metadata": {},
   "outputs": [
    {
     "name": "stdout",
     "output_type": "stream",
     "text": [
      " N°                 Hashtag                   Number of tweets  \n",
      " 1               FarmersProtest                    392372       \n",
      " 2             IStandWithFarmers                   15618        \n",
      " 3               farmersprotest                    14393        \n",
      " 4          IndianFarmersHumanRights               11897        \n",
      " 5              FarmersAreIndia                    10952        \n",
      " 6              StandWithFarmers                   10446        \n",
      " 7                  Rihanna                         8796        \n",
      " 8              FarmersProtests                     8646        \n",
      " 9                  Farmers                         6255        \n",
      " 10             shameonbollywood                    6187        \n"
     ]
    }
   ],
   "source": [
    "get_top_hashtags(tweets)"
   ]
  }
 ],
 "metadata": {
  "kernelspec": {
   "display_name": "Python 3",
   "language": "python",
   "name": "python3"
  },
  "language_info": {
   "codemirror_mode": {
    "name": "ipython",
    "version": 3
   },
   "file_extension": ".py",
   "mimetype": "text/x-python",
   "name": "python",
   "nbconvert_exporter": "python",
   "pygments_lexer": "ipython3",
   "version": "3.8.10"
  }
 },
 "nbformat": 4,
 "nbformat_minor": 5
}

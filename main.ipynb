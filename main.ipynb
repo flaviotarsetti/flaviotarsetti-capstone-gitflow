{
 "cells": [
  {
   "cell_type": "code",
   "execution_count": 1,
   "id": "a351d0fb",
   "metadata": {},
   "outputs": [],
   "source": [
    "import json\n",
    "import pandas as pd"
   ]
  },
  {
   "cell_type": "code",
   "execution_count": 2,
   "id": "fc3c60c3",
   "metadata": {},
   "outputs": [],
   "source": [
    "# Código extraído de https://stackoverflow.com/a/29312618\n",
    "tweets = []\n",
    "for line in open('farmers-protest-tweets-2021-03-5.json', 'r'):\n",
    "    tweets.append(json.loads(line))"
   ]
  }
 ],
 "metadata": {
  "kernelspec": {
   "display_name": "Python 3",
   "language": "python",
   "name": "python3"
  },
  "language_info": {
   "codemirror_mode": {
    "name": "ipython",
    "version": 3
   },
   "file_extension": ".py",
   "mimetype": "text/x-python",
   "name": "python",
   "nbconvert_exporter": "python",
   "pygments_lexer": "ipython3",
   "version": "3.8.10"
  }
 },
 "nbformat": 4,
 "nbformat_minor": 5
}
